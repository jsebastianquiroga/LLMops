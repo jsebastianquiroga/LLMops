{
 "cells": [
  {
   "cell_type": "markdown",
   "metadata": {},
   "source": [
    "# A simple RAG application using open-source models"
   ]
  },
  {
   "cell_type": "code",
   "execution_count": 5,
   "metadata": {},
   "outputs": [],
   "source": [
    "import os\n",
    "from dotenv import load_dotenv\n",
    "\n",
    "load_dotenv()\n",
    "\n",
    "OPENAI_API_KEY = os.getenv(\"OPENAI_API_KEY\")\n",
    "#MODEL = \"gpt-3.5-turbo\"\n",
    "#MODEL = \"phi3\"\n",
    "MODEL = \"llama3\"\n"
   ]
  },
  {
   "cell_type": "code",
   "execution_count": 56,
   "metadata": {},
   "outputs": [
    {
     "data": {
      "text/plain": [
       "\"\\nSure, here's one:\\n\\nWhy don't scientists trust atoms?\\nBecause they make up everything!\\n\\nI hope you found that amusing. If you'd like to hear another one, just let me know!\""
      ]
     },
     "execution_count": 56,
     "metadata": {},
     "output_type": "execute_result"
    }
   ],
   "source": [
    "from langchain_community.llms import Ollama\n",
    "from langchain_openai.chat_models import ChatOpenAI\n",
    "from langchain_community.embeddings import OllamaEmbeddings\n",
    "from langchain_openai.embeddings import OpenAIEmbeddings\n",
    "\n",
    "if MODEL.startswith(\"gpt\"):\n",
    "    model = ChatOpenAI(openai_api_key=OPENAI_API_KEY, model=MODEL)\n",
    "    embeddings = OpenAIEmbeddings()\n",
    "else:\n",
    "    model = Ollama(model=MODEL)\n",
    "    embeddings = OllamaEmbeddings(model=MODEL)\n",
    "\n",
    "model.invoke(\"Tell me an intersting fact\")"
   ]
  },
  {
   "cell_type": "code",
   "execution_count": 57,
   "metadata": {},
   "outputs": [
    {
     "data": {
      "text/plain": [
       "\"Sure! Here's one:\\n\\nWhy don't scientists trust atoms?\\nBecause they make up everything!\\n\\nI hope you found that amusing. Let me know if you'd like to hear another joke!\""
      ]
     },
     "execution_count": 57,
     "metadata": {},
     "output_type": "execute_result"
    }
   ],
   "source": [
    "from langchain_core.output_parsers import StrOutputParser\n",
    "\n",
    "parser = StrOutputParser()\n",
    "\n",
    "chain = model | parser \n",
    "chain.invoke(\"Tell me an intersting fact\")"
   ]
  },
  {
   "cell_type": "code",
   "execution_count": 58,
   "metadata": {},
   "outputs": [
    {
     "data": {
      "text/plain": [
       "'\\nAnswer the question based on the context below. If you can\\'t \\nanswer the question, reply \"I don\\'t know\".\\n\\nContext: Here is some context\\n\\nQuestion: Here is a question\\n'"
      ]
     },
     "execution_count": 58,
     "metadata": {},
     "output_type": "execute_result"
    }
   ],
   "source": [
    "from langchain.prompts import PromptTemplate\n",
    "\n",
    "template = \"\"\"\n",
    "Answer the question based on the context below. If you can't \n",
    "answer the question, reply \"I don't know\".\n",
    "\n",
    "Context: {context}\n",
    "\n",
    "Question: {question}\n",
    "\"\"\"\n",
    "\n",
    "prompt = PromptTemplate.from_template(template)\n",
    "prompt.format(context=\"Here is some context\", question=\"Here is a question\")"
   ]
  },
  {
   "cell_type": "code",
   "execution_count": 59,
   "metadata": {},
   "outputs": [
    {
     "data": {
      "text/plain": [
       "' Sure! Based on the context you provided, my answer would be:\\n\\n\"My name is Santiago.\"'"
      ]
     },
     "execution_count": 59,
     "metadata": {},
     "output_type": "execute_result"
    }
   ],
   "source": [
    "chain = prompt | model | parser\n",
    "\n",
    "chain.invoke({\"context\": \"My parents named me Juan\", \"question\": \"What's your name'?\"})"
   ]
  },
  {
   "cell_type": "code",
   "execution_count": 60,
   "metadata": {},
   "outputs": [
    {
     "data": {
      "text/plain": [
       "[Document(page_content='3/7/24, 2:37 PM Building Machine Learning Systems That Don\\'t Suck\\nhttps://www.ml.school 1/15Building Machine Learning Systems That Don\\'t\\nSuck\\nA live, interactive program that\\'ll help you build production-ready\\nmachine learning systems from the ground up.\\nNext cohort:\\xa0April8 - 25, 2024\\nCheck the schedulefor more details about upcoming cohorts.\\nRegister now\\nLearn how to design, build, deploy, and scale machine learning\\nsystems to solve real-world problems.\"This is the best machine learning course I\\'ve done\\never. Worth every cent.\"\\n— Jose Reyes, AI/ML at Cevo Australia', metadata={'source': 'mlschool.pdf', 'page': 0}),\n",
       " Document(page_content=\"3/7/24, 2:37 PM Building Machine Learning Systems That Don't Suck\\nhttps://www.ml.school 2/15I'll lose my mind if I see another book or course teaching people the same basic\\nideas for the hundredth time. Most people are stuck in beginner mode, and\\nfinding help to solve real-world problems is hard.\\nI want to change that.\\nI started writing software 30 years ago. I've written pipelines and trained\\nmodels for some of the largest companies in the world. I want to show you how\\nto do the same.\\nThis is the class I wish I had taken when I started.\\nThis program will help you unlearn what you think machine learning is. It's a\\npractical, hands-on class where you'll learn from years of experience and real-\\nworld examples.\\nWhen you join, you get lifetime access to the following:\\n18 hours of live, interactive sessions. We'll use this time to discuss the\\nfirst principles behind building machine learning systems.\\n10 hours of step-by-step coding instructions. These practical sessions\\nwill show you how to build an end-to-end system from scratch.\\nA final project where you'll build a complete solution and receive direct\\nfeedback on your work.\\n30 coding assignments and practice questions.\", metadata={'source': 'mlschool.pdf', 'page': 1}),\n",
       " Document(page_content=\"3/7/24, 2:37 PM Building Machine Learning Systems That Don't Suck\\nhttps://www.ml.school 3/15The entire source code of a working production system. It's yours. You\\ncan change and use it as you see fit.\\nA private community where you'll collaborate with thousands of people\\nfrom different backgrounds.\\nDirect access to your instructor.\\nLifetime access to every past and future cohort.\\nProgram certificate upon completion.\\nAnd the best part is that you only pay once to join. There are no monthly fees.\\nNo annual fees. No hidden costs. You pay once to join and benefit forever until\\nthe end of time.\\nThe program won't be easy. It'll take time and effort. But if you want to use\\nmachine learning to solve real-world problems,this is the class you don't want\\nto miss.\\nWho Is This Program For?\\nThis is a practical, hands-on program for technical professionals\\nwho are ready to put in the work.\\nThis program is for software engineers,data scientists, data analysts,\\nmachine learning engineers,technical managers, and anyone anyone who\", metadata={'source': 'mlschool.pdf', 'page': 2}),\n",
       " Document(page_content='3/7/24, 2:37 PM Building Machine Learning Systems That Don\\'t Suck\\nhttps://www.ml.school 4/15wants to use machine learning to solve real-world problems.\\nHere are the criteria to succeed in the program:\\nYou have experience writing code. We\\'ll use Python throughout the class,\\nbut you won\\'t have any problems if you know any other language.\\nYou are familiar with basic machine learning terminology. This is not an\\nintroductory class. We\\'ll move quickly over the basics to focus on the\\nfundamental ideas that make systems work.\\nYou are ready to put in the work to succeed.\\n\"I have learned a ton from Santiago in his class and it was actually what helped\\ninspire me and get into the MLOps work that I\\'m doing now. Truly one of the\\nmost helpful online courses for doing real, full-scale machine learning.\"\\nBrian H. Hough\\nSoftware Engineer', metadata={'source': 'mlschool.pdf', 'page': 3}),\n",
       " Document(page_content=\"3/7/24, 2:37 PM Building Machine Learning Systems That Don't Suck\\nhttps://www.ml.school 5/15What Will You Learn?\\nYou'll come out with practical skills and insights into what it takes\\nto build systems that work in the real world.\\nHere is a summary of what makes this program unique:\\nYou'll design and write the code to build an end-to-end machine learning\\nsystem starting from scratch.\\nYou'll learn best practices to tackle the most significant challenges\\nmachine learning engineers face to build, evaluate, run, monitor, and\\nmaintain machine learning systems in real-world scenarios.\\nYou'll learn how to use techniques like active learning, distributed\\ntraining, adversarial validation, human-in-the-loop deployments, model\\ncompression, test-time augmentation, testing in production, among many\\nothers.\\nYou'll learn how to create training, deploying, monitoring, and inference\\npipelines using Amazon SageMaker and open-source tools.\\nForget about theoretical concepts. This program will show you some of the\\nthings I've learned from real-life examples I've built during more than 30 years\\nin the industry.\", metadata={'source': 'mlschool.pdf', 'page': 4}),\n",
       " Document(page_content=\"3/7/24, 2:37 PM Building Machine Learning Systems That Don't Suck\\nhttps://www.ml.school 6/15Check the program syllabus\\xa0→\\nReal-life examples and case studies\\nLearn from practical experience building\\nmachine learning systems that work in the real\\nworld.\\nLive, interactive sessions\\nAsk questions and interact with the instructor\\nand other students in real time.\", metadata={'source': 'mlschool.pdf', 'page': 5}),\n",
       " Document(page_content=\"3/7/24, 2:37 PM Building Machine Learning Systems That Don't Suck\\nhttps://www.ml.school 7/15Code walkthroughs\\nStep by step coding instructions to help you\\nbuild a production system from scratch.\\nUpcoming Schedule\\nEvery iteration of the program gives you 18 hours of hands-on,\\nlive training spread over 3 weeks.\\nHere are the upcoming cohorts:\\nCohort 12:April 8-April 25, 2024.10:00 AM EDT\\nCohort 13:May 6-May 23, 2024.2:00 PM EDT\\nCohort 14:July 1-July 18, 2024.4:00 AM EDT\\nLive sessions will take place every Monday and Thursday at the same time. On\\nWednesdays, we'll host office hours when you can bring your questions\\nprojects or anything else you want to discuss.\\nMonday: Live session. 2 hours.\", metadata={'source': 'mlschool.pdf', 'page': 6}),\n",
       " Document(page_content='3/7/24, 2:37 PM Building Machine Learning Systems That Don\\'t Suck\\nhttps://www.ml.school 8/15Tuesday: Individual work.\\nWednesday: Optional office hours.\\nThursday: Live session. 2 hours.\\nFriday: Individual work.\\nDo not wait for a specific cohort to join the program. You have lifetime access\\nto every past and future cohort, and the sooner you join, the more time you\\nhave to prepare.\\nEvery session is recorded. You can attend live or watch the recorded version\\nlater.\\n\"This is one of the best classes I\\'ve ever purchased over the internet. Santiago\\nis a terrific teacher. The ability he has to share knowledge is fantastic. I\\nrecommend this course. Worth 10x what he\\'s charging.\"\\nSal DiStefano', metadata={'source': 'mlschool.pdf', 'page': 7}),\n",
       " Document(page_content=\"3/7/24, 2:37 PM Building Machine Learning Systems That Don't Suck\\nhttps://www.ml.school 9/15Ready To Join The Program?\\nGet lifetime access to every future cohort. No monthly fees. No\\nannual fees. No hidden costs.\\n$450\\nLifetime access to the program\\nPay once to join and benefit from every past and future cohort. You can participate in\\nas many iterations as you'd like. No restrictions.\\nRegister now\\n18 hours of live, interactive sessions\\n10 hours of step-by-step coding instructions\\n30 coding assignments and practice questions\\nComplete source code of a working production system\", metadata={'source': 'mlschool.pdf', 'page': 8}),\n",
       " Document(page_content=\"3/7/24, 2:37 PM Building Machine Learning Systems That Don't Suck\\nhttps://www.ml.school 10/15Program Syllabus\\nThis program will teach you the practical skills and insights that\\nwill help you build machine learning systems.\\nHere are the contents of the six live sessions of the program:\\nSession 1 - How To Start (Almost) Any Project\\nWhat makes production machine learning different from what you've\\nlearned.\\nThe strategy to solve the right problem using the right solution.\\nCritical questions to ask before starting any project.\\nProblem framing, inversion, and the haystack principle for building\\nsuccessful applications.\\nThe first rule of machine learning engineering and how to start building.\\nData collection strategies. A technique to determine how much data you\\nneed.Bonus: Course to learn how to start freelancing on Upwork\\nMembership access to a private community\\nDirect access to your instructor\", metadata={'source': 'mlschool.pdf', 'page': 9}),\n",
       " Document(page_content=\"3/7/24, 2:37 PM Building Machine Learning Systems That Don't Suck\\nhttps://www.ml.school 11/15The problem of selection bias and how to deal with it.\\nLabeling data. Human annotations, natural labels and weak supervision.\\nActive learning using the uncertainty and diversity sampling strategies.\\nSession 2 - How to Build a Model\\nThe role of data cleaning and feature engineering to build better models.\\nTurning data into numbers using vectorization techniques.\\nProducing homogeneous features using normalization and\\nstandardization.\\nHandling and interpreting missing values using imputation techniques.\\nThe approach to choosing the best model to solve any problem.\\nRandom baselines and the zero-rule algorithm.\\nHow to use overfitting to build models that don't suck.\\nHyperparameter tuning and experiment tracking.\\nMeasuring the quality of your holdout set.\\nAn introduction to distributed training using data parallelism and model\\nparallelism.\\nSee the remaining sessions\", metadata={'source': 'mlschool.pdf', 'page': 10}),\n",
       " Document(page_content='3/7/24, 2:37 PM Building Machine Learning Systems That Don\\'t Suck\\nhttps://www.ml.school 12/15\"This is an awesome course! This is my second round and I continue learning. I\\nrecommend it with complete confidence.\"\\nJuan Olano\\nMachine Learning Engineer\\nFrequently Asked Questions\\nIf you can\\'t find the answer to your question, please reach out on\\nsocial media and I\\'ll be happy to help.\\nHow long will it take to complete the program?\\nIf you are attending the live sessions, you should set aside a minimum of 4\\nhours every week during the three weeks of the program. This commitment will\\nbe enough for engineer leaders or anyone not interested in the coding portion\\nof the program.\\nThose interested in implementing the concepts discussed in class should set\\naside 2 to 4 hours weekly to complete the code walkthroughs and work on the\\nassignments.', metadata={'source': 'mlschool.pdf', 'page': 11}),\n",
       " Document(page_content='3/7/24, 2:37 PM Building Machine Learning Systems That Don\\'t Suck\\nhttps://www.ml.school 13/15Are live sessions recorded?\\nYes, we record every live session. You can decide when to attend classes live\\nor catch up asynchronously later using the recording.\\nI\\'m a complete beginner. Is this program helpful for me?\\nThis program is not an introduction to machine learning.\\nWhile we\\'ll discuss many fundamental ideas behind machine learning,\\nbeginners will find the sessions go much faster than what\\'s optimal for them.\\nWhat does \"lifetime access\" mean?\\nYou only pay once to join the program and get immediate access to every past,\\npresent, and future cohort.\\nEvery new iteration of the program is better than the ones before. Many\\nstudents take classes once and then join a later cohort to benefit from the\\nupdates.\\nThe lifetime access removes any pressure from having to complete the\\nprogram when life gets in the way.', metadata={'source': 'mlschool.pdf', 'page': 12}),\n",
       " Document(page_content=\"3/7/24, 2:37 PM Building Machine Learning Systems That Don't Suck\\nhttps://www.ml.school 14/15Hey! I'm Santiago.\\nI'm the instructor of the program.\\nI'm a machine learning engineer with over two decades of experience building and\\nscaling enterprise software and machine learning systems.\\nI love neural networks. I love to make them work at scale.\\nFrom 2009 to 2023, I built products for Disney, Boston Dynamics, IBM, Dell, G4S, Anheuser-Busch, and\\nNextEra Energy, among other clients. I learned about trade-offs and how to create products that work.\\nI started this program in March 2023. Since then, thousands of students have graduated, and I can't wait\\nto meet you in class.\", metadata={'source': 'mlschool.pdf', 'page': 13}),\n",
       " Document(page_content=\"3/7/24, 2:37 PM Building Machine Learning Systems That Don't Suck\\nhttps://www.ml.school 15/15Copyright © 2024 Tideily LLC\\nAll rights reserved.\", metadata={'source': 'mlschool.pdf', 'page': 14})]"
      ]
     },
     "execution_count": 60,
     "metadata": {},
     "output_type": "execute_result"
    }
   ],
   "source": [
    "from langchain_community.document_loaders import PyPDFLoader\n",
    "\n",
    "loader = PyPDFLoader(\"El Viejo y El Mar.pdf\")\n",
    "pages = loader.load_and_split()\n",
    "pages"
   ]
  },
  {
   "cell_type": "code",
   "execution_count": 61,
   "metadata": {},
   "outputs": [],
   "source": [
    "# to save the vectors in the cache memory, and store the artefacts\n",
    "from langchain_community.vectorstores import DocArrayInMemorySearch\n",
    "\n",
    "vectorstore = DocArrayInMemorySearch.from_documents(pages, embedding=embeddings)\n",
    "\n",
    "import pickle\n",
    "\n",
    "# Save documents\n",
    "with open('documents.pkl', 'wb') as f:\n",
    "    pickle.dump(pages, f)\n",
    "\n",
    "# Save embeddings\n",
    "with open('embeddings.pkl', 'wb') as f:\n",
    "    pickle.dump(embeddings, f)\n"
   ]
  },
  {
   "cell_type": "code",
   "execution_count": null,
   "metadata": {},
   "outputs": [],
   "source": [
    "# import pickle\n",
    "# from langchain_community.vectorstores import DocArrayInMemorySearch\n",
    "\n",
    "# # Load documents\n",
    "# with open('documents.pkl', 'rb') as f:\n",
    "#     pages = pickle.load(f)\n",
    "\n",
    "# # Load embeddings\n",
    "# with open('embeddings.pkl', 'rb') as f:\n",
    "#     embeddings = pickle.load(f)\n",
    "\n",
    "# # Reconstruct the vector store\n",
    "# vectorstore = DocArrayInMemorySearch.from_documents(pages, embedding=embeddings)\n"
   ]
  },
  {
   "cell_type": "code",
   "execution_count": 62,
   "metadata": {},
   "outputs": [
    {
     "data": {
      "text/plain": [
       "[Document(page_content='3/7/24, 2:37 PM Building Machine Learning Systems That Don\\'t Suck\\nhttps://www.ml.school 4/15wants to use machine learning to solve real-world problems.\\nHere are the criteria to succeed in the program:\\nYou have experience writing code. We\\'ll use Python throughout the class,\\nbut you won\\'t have any problems if you know any other language.\\nYou are familiar with basic machine learning terminology. This is not an\\nintroductory class. We\\'ll move quickly over the basics to focus on the\\nfundamental ideas that make systems work.\\nYou are ready to put in the work to succeed.\\n\"I have learned a ton from Santiago in his class and it was actually what helped\\ninspire me and get into the MLOps work that I\\'m doing now. Truly one of the\\nmost helpful online courses for doing real, full-scale machine learning.\"\\nBrian H. Hough\\nSoftware Engineer', metadata={'source': 'mlschool.pdf', 'page': 3}),\n",
       " Document(page_content=\"3/7/24, 2:37 PM Building Machine Learning Systems That Don't Suck\\nhttps://www.ml.school 15/15Copyright © 2024 Tideily LLC\\nAll rights reserved.\", metadata={'source': 'mlschool.pdf', 'page': 14}),\n",
       " Document(page_content='3/7/24, 2:37 PM Building Machine Learning Systems That Don\\'t Suck\\nhttps://www.ml.school 12/15\"This is an awesome course! This is my second round and I continue learning. I\\nrecommend it with complete confidence.\"\\nJuan Olano\\nMachine Learning Engineer\\nFrequently Asked Questions\\nIf you can\\'t find the answer to your question, please reach out on\\nsocial media and I\\'ll be happy to help.\\nHow long will it take to complete the program?\\nIf you are attending the live sessions, you should set aside a minimum of 4\\nhours every week during the three weeks of the program. This commitment will\\nbe enough for engineer leaders or anyone not interested in the coding portion\\nof the program.\\nThose interested in implementing the concepts discussed in class should set\\naside 2 to 4 hours weekly to complete the code walkthroughs and work on the\\nassignments.', metadata={'source': 'mlschool.pdf', 'page': 11}),\n",
       " Document(page_content=\"3/7/24, 2:37 PM Building Machine Learning Systems That Don't Suck\\nhttps://www.ml.school 5/15What Will You Learn?\\nYou'll come out with practical skills and insights into what it takes\\nto build systems that work in the real world.\\nHere is a summary of what makes this program unique:\\nYou'll design and write the code to build an end-to-end machine learning\\nsystem starting from scratch.\\nYou'll learn best practices to tackle the most significant challenges\\nmachine learning engineers face to build, evaluate, run, monitor, and\\nmaintain machine learning systems in real-world scenarios.\\nYou'll learn how to use techniques like active learning, distributed\\ntraining, adversarial validation, human-in-the-loop deployments, model\\ncompression, test-time augmentation, testing in production, among many\\nothers.\\nYou'll learn how to create training, deploying, monitoring, and inference\\npipelines using Amazon SageMaker and open-source tools.\\nForget about theoretical concepts. This program will show you some of the\\nthings I've learned from real-life examples I've built during more than 30 years\\nin the industry.\", metadata={'source': 'mlschool.pdf', 'page': 4})]"
      ]
     },
     "execution_count": 62,
     "metadata": {},
     "output_type": "execute_result"
    }
   ],
   "source": [
    "retriever = vectorstore.as_retriever()\n",
    "retriever.invoke(\"pescar\")"
   ]
  },
  {
   "cell_type": "code",
   "execution_count": 63,
   "metadata": {},
   "outputs": [],
   "source": [
    "from operator import itemgetter\n",
    "\n",
    "chain = (\n",
    "    {\n",
    "        \"context\": itemgetter(\"question\") | retriever,\n",
    "        \"question\": itemgetter(\"question\"),\n",
    "    }\n",
    "    | prompt\n",
    "    | model\n",
    "    | parser\n",
    ")"
   ]
  },
  {
   "cell_type": "code",
   "execution_count": 64,
   "metadata": {},
   "outputs": [
    {
     "name": "stdout",
     "output_type": "stream",
     "text": [
      "Question: What is the purpose of the course?\n",
      "Answer: Based on the context provided, the purpose of the course appears to be to teach students how to build machine learning systems that work in the real world. The course aims to provide practical experience and hands-on training, rather than just teaching basic ideas or theories. The instructor wants to help students unlearn what they think machine learning is and instead focus on building end-to-end systems from scratch. The course offers lifetime access to live sessions, coding instructions, and final projects, with the goal of providing direct feedback on students' work.\n",
      "\n",
      "Question: How many hours of live sessions?\n",
      "Answer: Based on the context provided, the program includes 18 hours of live, interactive sessions.\n",
      "\n",
      "Question: How many coding assignments are there in the program?\n",
      "Answer: Based on the context provided, there are 30 coding assignments and practice questions in the program.\n",
      "\n",
      "Question: Is there a program certificate upon completion?\n",
      "Answer: Yes, according to the document, there is a program certificate upon completion of the course. The document states, \"You only pay once to join the program and get immediate access to every past, present, and future cohort. Every new iteration of the program is better than the ones before. Many students take classes once and then join a later cohort to benefit from the updates. The lifetime access removes any pressure from having to complete the program when life gets in the way.\" This suggests that upon completion of the course, students will receive a program certificate as a memento of their accomplishment.\n",
      "\n",
      "Question: What programming language will be used in the program?\n",
      "Answer: Based on the context provided, the answer to the question \"What programming language will be used in the program?\" is:\n",
      "\n",
      "The program uses Python as the primary programming language for building machine learning systems.\n",
      "\n",
      "Question: How much does the program cost?\n",
      "Answer: The program costs $450, as stated in the document on page 8.\n",
      "\n"
     ]
    }
   ],
   "source": [
    "questions = [\n",
    "    \"What is the purpose of the book?\",\n",
    "    \"Que relacion tiene el viejo con el mar?\",\n",
    "    \"are there other carachters different than the old man?\",\n",
    "    \"que habla el libro sobre la muerte?\",\n",
    "]\n",
    "\n",
    "for question in questions:\n",
    "    print(f\"Question: {question}\")\n",
    "    print(f\"Answer: {chain.invoke({'question': question})}\")\n",
    "    print()"
   ]
  },
  {
   "cell_type": "code",
   "execution_count": 54,
   "metadata": {},
   "outputs": [
    {
     "data": {
      "text/plain": [
       "[' Based on the provided document, the purpose of the course \"Building Machine Learning Systems That Don\\'t Suck\" is to provide students with practical skills and insights into building machine learning systems that work in real-world scenarios. The course focuses on designing and writing code to build an end-to-end machine learning system from scratch and covers best practices for tackling challenges faced by machine learning engineers. The course also teaches how to use various techniques like active learning, distributed training, adversarial validation, human-in-the-loop deployments, model compression, test-time augmentation, testing in production, among others. Additionally, the course covers creating training, deploying, monitoring, and inference pipelines using Amazon SageMaker and open-source tools. The course emphasizes learning from real-life examples instead of theoretical concepts.',\n",
       " ' Based on the documents provided, there are 18 hours of live, interactive sessions in the program.',\n",
       " \" I don't know. The provided documents do not contain information about the number of coding assignments in the program.\",\n",
       " \" I don't know. The provided documents do not contain information about the availability of a program certificate upon completion.\",\n",
       " ' The document does not specify what programming language will be used in the program.',\n",
       " ' The program costs $450, as mentioned in the document on page 8.']"
      ]
     },
     "execution_count": 54,
     "metadata": {},
     "output_type": "execute_result"
    }
   ],
   "source": [
    "chain.batch([{\"question\": q} for q in questions])"
   ]
  },
  {
   "cell_type": "code",
   "execution_count": 30,
   "metadata": {},
   "outputs": [
    {
     "name": "stdout",
     "output_type": "stream",
     "text": [
      "The purpose of the course is to teach practical skills and insights that will help individuals build machine learning systems that work in the real world."
     ]
    }
   ],
   "source": [
    "for s in chain.stream({\"question\": \"que habla el libro sobre la muerte?\"}):\n",
    "    print(s, end=\"\", flush=True)"
   ]
  },
  {
   "cell_type": "code",
   "execution_count": 110,
   "metadata": {},
   "outputs": [],
   "source": []
  }
 ],
 "metadata": {
  "kernelspec": {
   "display_name": ".venv",
   "language": "python",
   "name": "python3"
  },
  "language_info": {
   "codemirror_mode": {
    "name": "ipython",
    "version": 3
   },
   "file_extension": ".py",
   "mimetype": "text/x-python",
   "name": "python",
   "nbconvert_exporter": "python",
   "pygments_lexer": "ipython3",
   "version": "3.9.6"
  }
 },
 "nbformat": 4,
 "nbformat_minor": 2
}
