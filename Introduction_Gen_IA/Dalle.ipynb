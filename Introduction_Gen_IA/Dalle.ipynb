{
 "cells": [
  {
   "cell_type": "code",
   "execution_count": 28,
   "metadata": {},
   "outputs": [],
   "source": [
    "import os\n",
    "from dotenv import load_dotenv\n",
    "import openai\n",
    "\n",
    "# Load the .env file\n",
    "load_dotenv()\n",
    "\n",
    "# Get the API key from the environment variables\n",
    "api_key = os.getenv('OPENAI_KEY')\n",
    "\n",
    "# Set the API key\n",
    "openai.api_key = api_key"
   ]
  },
  {
   "cell_type": "code",
   "execution_count": 29,
   "metadata": {},
   "outputs": [],
   "source": [
    "from openai import OpenAI\n",
    "client = OpenAI()"
   ]
  },
  {
   "cell_type": "code",
   "execution_count": 30,
   "metadata": {},
   "outputs": [],
   "source": [
    "# create a shooping list and recipe function\n",
    "\n",
    "def create_shopping_list(recipe):\n",
    "    prompt = f\"Create a shopping list for the following recipe and goods that go well with it and cooking instructions: {{recipe}}\"\n",
    "    \n",
    "    return prompt"
   ]
  },
  {
   "cell_type": "code",
   "execution_count": 31,
   "metadata": {},
   "outputs": [
    {
     "name": "stdout",
     "output_type": "stream",
     "text": [
      "Create a shopping list for the following recipe and goods that go well with it and cooking instructions: {recipe}\n"
     ]
    }
   ],
   "source": [
    "#function test\n",
    "\n",
    "recipe = create_shopping_list(\"chicken curry with rice\")\n",
    "\n",
    "print(recipe)"
   ]
  },
  {
   "cell_type": "code",
   "execution_count": 32,
   "metadata": {},
   "outputs": [
    {
     "name": "stdout",
     "output_type": "stream",
     "text": [
      "Recipe: Grilled Lemon Herb Chicken\n",
      "\n",
      "Shopping List:\n",
      "- Chicken breasts\n",
      "- Lemons\n",
      "- Fresh herbs (such as rosemary, thyme, and parsley)\n",
      "- Olive oil\n",
      "- Garlic\n",
      "- Salt and pepper\n",
      "\n",
      "Goods that go well with it:\n",
      "- Grilled vegetables (such as zucchini, bell peppers, and asparagus)\n",
      "- Rice or quinoa\n",
      "- Crusty bread\n",
      "- Salad greens\n",
      "- White wine or iced tea\n",
      "\n",
      "Cooking Instructions:\n",
      "1. In a small bowl, combine the juice of 2 lemons, 2 cloves of minced garlic, 1/4 cup of olive oil, and a handful of chopped fresh herbs. Season with salt and pepper.\n",
      "2. Place the chicken breasts in a large resealable plastic bag and pour the marinade over them. Seal the bag and refrigerate for at least 30 minutes (or up to 4 hours).\n",
      "3. Preheat the grill to medium-high heat. Remove the chicken from the marinade and discard the excess.\n",
      "4. Grill the chicken for 6-7 minutes per side, or until cooked through and no longer pink in the center.\n",
      "5. Serve the grilled lemon herb chicken with your choice of sides and enjoy!\n"
     ]
    }
   ],
   "source": [
    "# Receaching out to the API of OpenAI\n",
    "\n",
    "response = client.chat.completions.create(\n",
    "    model=\"gpt-3.5-turbo\",\n",
    "    messages=[\n",
    "        {\"role\": \"system\", \n",
    "         \"content\": recipe},\n",
    "    ],\n",
    "temperature=0.7,\n",
    "top_p=1,\n",
    ")\n",
    "\n",
    "\n",
    "print(response.choices[0].message.content)"
   ]
  },
  {
   "cell_type": "code",
   "execution_count": 33,
   "metadata": {},
   "outputs": [
    {
     "name": "stdout",
     "output_type": "stream",
     "text": [
      "['Chicken breasts', 'Lemons', 'Fresh herbs (such as rosemary, thyme, and parsley)', 'Olive oil', 'Garlic', 'Salt and pepper', 'Grilled vegetables (such as zucchini, bell peppers, and asparagus)', 'Rice or quinoa', 'Crusty bread', 'Salad greens', 'White wine or iced tea']\n"
     ]
    }
   ],
   "source": [
    "import re\n",
    "\n",
    "text = response.choices[0].message.content\n",
    "\n",
    "pattern = re.compile(r'- (.+)')\n",
    "matches = pattern.findall(text)\n",
    "\n",
    "shoping_list = []\n",
    "\n",
    "for match in matches:\n",
    "    shoping_list.append(match)  \n",
    "\n",
    "print(shoping_list)"
   ]
  },
  {
   "cell_type": "code",
   "execution_count": 34,
   "metadata": {},
   "outputs": [],
   "source": [
    "#Generating Images with Dalee\n",
    "\n",
    "image_response = client.images.generate(\n",
    "    model=\"dall-e-3\",\n",
    "    prompt= shoping_list[0],\n",
    "    size = '1024x1024',\n",
    "    quality=\"standard\",\n",
    "    n=1,\n",
    ")\n",
    "\n",
    "image_url = image_response.data[0].url"
   ]
  },
  {
   "cell_type": "code",
   "execution_count": 35,
   "metadata": {},
   "outputs": [
    {
     "name": "stdout",
     "output_type": "stream",
     "text": [
      "https://oaidalleapiprodscus.blob.core.windows.net/private/org-RZw0goZEWP0KsQK4ZSPvSXV0/user-O3dozpbcrhWO19pTdJDNSBCO/img-cvRdIB98EAFYOgtdtPQQ3Rnr.png?st=2024-05-22T01%3A27%3A50Z&se=2024-05-22T03%3A27%3A50Z&sp=r&sv=2021-08-06&sr=b&rscd=inline&rsct=image/png&skoid=6aaadede-4fb3-4698-a8f6-684d7786b067&sktid=a48cca56-e6da-484e-a814-9c849652bcb3&skt=2024-05-21T10%3A27%3A49Z&ske=2024-05-22T10%3A27%3A49Z&sks=b&skv=2021-08-06&sig=cpRSsIntksmr2Z9y7mJYpoV%2BYN/%2B2qoJDguka5ztDhg%3D\n"
     ]
    }
   ],
   "source": [
    "print(image_url)"
   ]
  }
 ],
 "metadata": {
  "kernelspec": {
   "display_name": "Llmops",
   "language": "python",
   "name": "python3"
  },
  "language_info": {
   "codemirror_mode": {
    "name": "ipython",
    "version": 3
   },
   "file_extension": ".py",
   "mimetype": "text/x-python",
   "name": "python",
   "nbconvert_exporter": "python",
   "pygments_lexer": "ipython3",
   "version": "3.10.13"
  }
 },
 "nbformat": 4,
 "nbformat_minor": 2
}
